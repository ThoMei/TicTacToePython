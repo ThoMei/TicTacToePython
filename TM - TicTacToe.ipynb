{
 "cells": [
  {
   "cell_type": "code",
   "execution_count": 21,
   "metadata": {},
   "outputs": [],
   "source": [
    "from IPython.display import clear_output\n",
    "\n",
    "def display_board(board):\n",
    "    clear_output()     \n",
    "    print(board[7]+\" | \"+board[8]+\" | \"+board[9])\n",
    "    print(\"---------\")\n",
    "    print(board[4]+\" | \"+board[5]+\" | \"+board[6])\n",
    "    print(\"---------\")\n",
    "    print(board[1]+\" | \"+board[2]+\" | \"+board[3])\n",
    "    pass"
   ]
  },
  {
   "cell_type": "code",
   "execution_count": 22,
   "metadata": {},
   "outputs": [
    {
     "name": "stdout",
     "output_type": "stream",
     "text": [
      "O | O | X\n",
      "---------\n",
      "X | X | O\n",
      "---------\n",
      "O | X | O\n"
     ]
    }
   ],
   "source": [
    "display_board(board)"
   ]
  },
  {
   "cell_type": "code",
   "execution_count": 2,
   "metadata": {},
   "outputs": [],
   "source": [
    "def player_input():\n",
    "    marker = \"\"\n",
    "    while marker != \"X\" and marker != \"O\":\n",
    "        marker = input(\"Would you like to use X or O?\").upper()\n",
    "    player1 = marker\n",
    "    if marker == \"X\":\n",
    "        return (\"X\",\"O\")\n",
    "    elif marker == \"O\":\n",
    "        return (\"O\",\"X\")\n",
    "    else:\n",
    "        pass"
   ]
  },
  {
   "cell_type": "code",
   "execution_count": 3,
   "metadata": {},
   "outputs": [],
   "source": [
    "import random\n",
    "\n",
    "def choose_first():\n",
    "    num = random.randint(1,10)\n",
    "    if num%2 == 0:\n",
    "        print(\"Player 1 goes first!\")\n",
    "        return 1\n",
    "    elif num%2 != 0:\n",
    "        print(\"Player 2 goes first!\")\n",
    "        return 2\n",
    "    else:\n",
    "        pass\n",
    "    pass"
   ]
  },
  {
   "cell_type": "code",
   "execution_count": 4,
   "metadata": {},
   "outputs": [],
   "source": [
    "def place_marker(board, marker, position):\n",
    "    global turn\n",
    "    if position in range(1,10) and space_check(board, position) == True:\n",
    "        board[position] = marker\n",
    "        display_board(board)\n",
    "        turn += 1\n",
    "    else:\n",
    "        pass\n",
    "    pass"
   ]
  },
  {
   "cell_type": "code",
   "execution_count": 5,
   "metadata": {},
   "outputs": [],
   "source": [
    "def win_check(board, mark):\n",
    "    if (board[1] == board[2] == board[3] == mark):\n",
    "        print(\"You've won!\")\n",
    "        return True\n",
    "    elif (board[4] == board[5] == board[6] == mark):\n",
    "        print(\"You've won!\")\n",
    "        return True\n",
    "    elif (board[7] == board[8] == board[9] == mark):\n",
    "        print(\"You've won!\")\n",
    "        return True\n",
    "    elif (board[1] == board[5] == board[9] == mark):\n",
    "        print(\"You've won!\")\n",
    "        return True\n",
    "    elif (board[7] == board[5] == board[3] == mark):\n",
    "        print(\"You've won!\")\n",
    "        return True\n",
    "    elif (board[1] == board[4] == board[7] == mark):\n",
    "        print(\"You've won!\")\n",
    "        return True\n",
    "    elif (board[2] == board[5] == board[8] == mark):\n",
    "        print(\"You've won!\")\n",
    "        return True\n",
    "    elif (board[3] == board[6] == board[9] == mark):\n",
    "        print(\"You've won!\")\n",
    "        return True\n",
    "    else:\n",
    "        return False\n",
    "    pass"
   ]
  },
  {
   "cell_type": "code",
   "execution_count": 6,
   "metadata": {},
   "outputs": [],
   "source": [
    "def space_check(board, position):\n",
    "    if board[position]:\n",
    "#        print (\"not empty\")\n",
    "        return False\n",
    "    else:\n",
    "#        print (\"empty\")\n",
    "        return True\n",
    "    pass"
   ]
  },
  {
   "cell_type": "code",
   "execution_count": 7,
   "metadata": {},
   "outputs": [],
   "source": [
    "def full_board_check(board):\n",
    "    if \"\" in board:\n",
    "        return False\n",
    "    else:\n",
    "        return True\n",
    "    pass"
   ]
  },
  {
   "cell_type": "code",
   "execution_count": 8,
   "metadata": {},
   "outputs": [],
   "source": [
    "def player_choice(board):\n",
    "    nextposition = 0\n",
    "    nextposition = int(input(\"What position do you want to play?\"))\n",
    "    if nextposition in range(1,10):\n",
    "        if space_check(board, nextposition) is True:\n",
    "            return nextposition\n",
    "        elif space_check(board, nextposition) is False:\n",
    "            print(\"That space is already taken!\")\n",
    "            pass\n",
    "    else:\n",
    "        print(\"Please enter a number between 1-9\")\n",
    "        pass\n",
    "    pass\n"
   ]
  },
  {
   "cell_type": "code",
   "execution_count": 9,
   "metadata": {},
   "outputs": [],
   "source": [
    "def replay():\n",
    "    global gameState\n",
    "    global gameplay\n",
    "    global board\n",
    "    global turn\n",
    "    if win is True:\n",
    "        turn = 0\n",
    "        gameState = not gameState\n",
    "        playagain = \"\"\n",
    "        playagain = input(\"Would you like to play again?\").upper()\n",
    "        if playagain == (\"YES\"):\n",
    "            board = ['#','','','','','','','','','']\n",
    "        elif playagain == \"NO\":\n",
    "            print(\"Thanks for playing!\")\n",
    "            gameplay = False\n",
    "        else:\n",
    "            print(\"Please type yes or no.\")\n",
    "            pass\n",
    "    elif full == True and win == False:\n",
    "        gameState = not gameState\n",
    "        turn = 0\n",
    "        playagain = \"\"\n",
    "        playagain = input(\"Would you like to play again?\").upper()\n",
    "        if playagain == (\"YES\"):\n",
    "            board = ['#','','','','','','','','','']\n",
    "        elif playagain == \"NO\":\n",
    "            print(\"Thanks for playing!\")\n",
    "            gameplay = False\n",
    "        else:\n",
    "            print(\"Please type yes or no.\")\n",
    "            pass\n",
    "    else:\n",
    "        pass"
   ]
  },
  {
   "cell_type": "code",
   "execution_count": 26,
   "metadata": {},
   "outputs": [
    {
     "name": "stdout",
     "output_type": "stream",
     "text": [
      " |  | \n",
      "---------\n",
      "O | O | \n",
      "---------\n",
      "X | X | X\n",
      "You've won!\n"
     ]
    },
    {
     "name": "stdin",
     "output_type": "stream",
     "text": [
      "Would you like to play again? no\n"
     ]
    },
    {
     "name": "stdout",
     "output_type": "stream",
     "text": [
      "Thanks for playing!\n",
      "0\n"
     ]
    }
   ],
   "source": [
    "board = ['#','','','','','','','','','']\n",
    "display_board(board)\n",
    "print('Welcome to Tic Tac Toe!')\n",
    "nextposition = 0\n",
    "turn = 0\n",
    "gameplay = True\n",
    "\n",
    "while True:\n",
    "    if gameplay == False:\n",
    "        break\n",
    "    else:\n",
    "        while turn == 0:\n",
    "            x,y = player_input()\n",
    "            turn = choose_first()\n",
    "            if turn == (1) or (2):\n",
    "                gameState = True\n",
    "        while gameState == True:\n",
    "            if (turn == 1 or turn%2 != 0):     \n",
    "                    nextplay = player_choice(board)\n",
    "                    place_marker(board, x, nextplay)\n",
    "                    #display_board(board)\n",
    "                    win = win_check(board, x)\n",
    "                    full = full_board_check(board)\n",
    "                    if full == True and win == False:\n",
    "                        print(\"No one has won!\")\n",
    "                    else:\n",
    "                        pass\n",
    "                    replay()\n",
    "                    print(turn)\n",
    "                    break\n",
    "            elif (turn == 2 or turn%2 == 0):\n",
    "                    nextplay = player_choice(board)\n",
    "                    place_marker(board, y, nextplay)\n",
    "                    #display_board(board)\n",
    "                    win = win_check(board, y)               \n",
    "                    full = full_board_check(board)\n",
    "                    if full == True and win == False:\n",
    "                        print(\"No one has won!\")\n",
    "                    else:\n",
    "                        pass\n",
    "                    replay()\n",
    "                    print(turn)\n",
    "                    break\n",
    "            else:\n",
    "                pass"
   ]
  },
  {
   "cell_type": "code",
   "execution_count": null,
   "metadata": {},
   "outputs": [],
   "source": []
  }
 ],
 "metadata": {
  "kernelspec": {
   "display_name": "Python 3",
   "language": "python",
   "name": "python3"
  },
  "language_info": {
   "codemirror_mode": {
    "name": "ipython",
    "version": 3
   },
   "file_extension": ".py",
   "mimetype": "text/x-python",
   "name": "python",
   "nbconvert_exporter": "python",
   "pygments_lexer": "ipython3",
   "version": "3.7.6"
  }
 },
 "nbformat": 4,
 "nbformat_minor": 4
}
